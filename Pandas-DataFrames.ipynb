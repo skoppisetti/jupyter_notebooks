{
 "cells": [
  {
   "cell_type": "code",
   "execution_count": 1,
   "metadata": {
    "collapsed": true
   },
   "outputs": [],
   "source": [
    "from pandas import Series\n",
    "from pandas import DataFrame"
   ]
  },
  {
   "cell_type": "code",
   "execution_count": 3,
   "metadata": {
    "collapsed": false
   },
   "outputs": [
    {
     "name": "stdout",
     "output_type": "stream",
     "text": [
      "       date   open ticker\n",
      "0  20180102  175.0   AAPL\n",
      "1  20180102   97.5   MSFT\n",
      "2  20180102  235.0   TSLA\n",
      "3  20180102  125.0     FB\n",
      "4  20180102   45.0   ORCL\n"
     ]
    }
   ],
   "source": [
    "date = ['20180102', '20180102', '20180102', '20180102', '20180102']\n",
    "ticker = ['AAPL', 'MSFT', 'TSLA', 'FB', 'ORCL']\n",
    "open = [175, 97.5, 235, 125, 45]\n",
    "oDict = {'date': date, 'ticker': ticker, 'open': open}\n",
    "oDf = DataFrame(oDict)\n",
    "print(oDf)"
   ]
  },
  {
   "cell_type": "code",
   "execution_count": 4,
   "metadata": {
    "collapsed": true
   },
   "outputs": [],
   "source": [
    "oDfRealigned = DataFrame(oDict, columns=['open', 'date', 'ticker'])"
   ]
  },
  {
   "cell_type": "code",
   "execution_count": 5,
   "metadata": {
    "collapsed": false
   },
   "outputs": [
    {
     "name": "stdout",
     "output_type": "stream",
     "text": [
      "    open      date ticker\n",
      "0  175.0  20180102   AAPL\n",
      "1   97.5  20180102   MSFT\n",
      "2  235.0  20180102   TSLA\n",
      "3  125.0  20180102     FB\n",
      "4   45.0  20180102   ORCL\n"
     ]
    }
   ],
   "source": [
    "print(oDfRealigned)"
   ]
  },
  {
   "cell_type": "code",
   "execution_count": null,
   "metadata": {
    "collapsed": true
   },
   "outputs": [],
   "source": []
  },
  {
   "cell_type": "code",
   "execution_count": null,
   "metadata": {
    "collapsed": true
   },
   "outputs": [],
   "source": []
  }
 ],
 "metadata": {
  "kernelspec": {
   "display_name": "Python 3",
   "language": "python",
   "name": "python3"
  },
  "language_info": {
   "codemirror_mode": {
    "name": "ipython",
    "version": 3
   },
   "file_extension": ".py",
   "mimetype": "text/x-python",
   "name": "python",
   "nbconvert_exporter": "python",
   "pygments_lexer": "ipython3",
   "version": "3.6.0"
  }
 },
 "nbformat": 4,
 "nbformat_minor": 2
}
